{
 "cells": [
  {
   "cell_type": "code",
   "execution_count": 2,
   "metadata": {},
   "outputs": [
    {
     "ename": "AttributeError",
     "evalue": "module 'camelot' has no attribute 'read_pdf'",
     "output_type": "error",
     "traceback": [
      "\u001b[1;31m---------------------------------------------------------------------------\u001b[0m",
      "\u001b[1;31mAttributeError\u001b[0m                            Traceback (most recent call last)",
      "Cell \u001b[1;32mIn[2], line 7\u001b[0m\n\u001b[0;32m      4\u001b[0m \u001b[38;5;66;03m# Path to the PDF file\u001b[39;00m\n\u001b[0;32m      5\u001b[0m pdf_path \u001b[38;5;241m=\u001b[39m \u001b[38;5;124mr\u001b[39m\u001b[38;5;124m\"\u001b[39m\u001b[38;5;124mD:\u001b[39m\u001b[38;5;124m\\\u001b[39m\u001b[38;5;124mCivicDataLab_IDS-DRR\u001b[39m\u001b[38;5;124m\\\u001b[39m\u001b[38;5;124mIDS-DRR_Github\u001b[39m\u001b[38;5;124m\\\u001b[39m\u001b[38;5;124mIDS-DRR-Assam\u001b[39m\u001b[38;5;124m\\\u001b[39m\u001b[38;5;124mSources\u001b[39m\u001b[38;5;124m\\\u001b[39m\u001b[38;5;124mSDRF\u001b[39m\u001b[38;5;124m\\\u001b[39m\u001b[38;5;124mdata\u001b[39m\u001b[38;5;124m\\\u001b[39m\u001b[38;5;124mddo treasurycode DEPTNAME.pdf\u001b[39m\u001b[38;5;124m\"\u001b[39m\n\u001b[1;32m----> 7\u001b[0m tables \u001b[38;5;241m=\u001b[39m \u001b[43mcamelot\u001b[49m\u001b[38;5;241;43m.\u001b[39;49m\u001b[43mread_pdf\u001b[49m(pdf_path, pages\u001b[38;5;241m=\u001b[39m\u001b[38;5;124m\"\u001b[39m\u001b[38;5;124mall\u001b[39m\u001b[38;5;124m\"\u001b[39m, flavor\u001b[38;5;241m=\u001b[39m\u001b[38;5;124m\"\u001b[39m\u001b[38;5;124mlattice\u001b[39m\u001b[38;5;124m\"\u001b[39m)\n\u001b[0;32m      9\u001b[0m \u001b[38;5;66;03m# try using the 'stream' flavor instead.\u001b[39;00m\n\u001b[0;32m     10\u001b[0m \u001b[38;5;28;01mif\u001b[39;00m \u001b[38;5;129;01mnot\u001b[39;00m tables:\n",
      "\u001b[1;31mAttributeError\u001b[0m: module 'camelot' has no attribute 'read_pdf'"
     ]
    }
   ],
   "source": [
    "#import camelot\n",
    "import camelot\n",
    "import pandas as pd\n",
    "# Path to the PDF file\n",
    "pdf_path = r\"D:\\CivicDataLab_IDS-DRR\\IDS-DRR_Github\\IDS-DRR-Assam\\Sources\\SDRF\\data\\ddo treasurycode DEPTNAME.pdf\"\n",
    "\n",
    "tables = camelot.read_pdf(pdf_path, pages=\"all\", flavor=\"lattice\")\n",
    "\n",
    "# try using the 'stream' flavor instead.\n",
    "if not tables:\n",
    "    tables = camelot.read_pdf(pdf_path, pages=\"all\", flavor=\"stream\")\n",
    "\n",
    "# Combine all extracted tables (if more than one) into a single DataFrame.\n",
    "df = pd.concat([table.df for table in tables], ignore_index=True)\n",
    "\n",
    "# Export the DataFrame to a CSV file.\n",
    "\n",
    "if len(tables) > 1:\n",
    "    combined_df = pd.concat([table.df for table in tables], ignore_index=True)\n",
    "    combined_df.to_csv(r\"D:\\CivicDataLab_IDS-DRR\\IDS-DRR_Github\\IDS-DRR-Assam\\Sources\\SDRF\\data\\research\\ddo_treasurycode_deptname.csv\", index=False)\n",
    "else:\n",
    "    tables[0].to_csv(r\"D:\\CivicDataLab_IDS-DRR\\IDS-DRR_Github\\IDS-DRR-Assam\\Sources\\SDRF\\data\\research\\ddo_treasurycode_deptname.csv\", index=False)\n",
    "\n",
    "print(\"CSV extraction complete, output saved to 'output.csv'\")\n"
   ]
  },
  {
   "cell_type": "code",
   "execution_count": 11,
   "metadata": {},
   "outputs": [
    {
     "name": "stderr",
     "output_type": "stream",
     "text": [
      "c:\\Users\\saura\\anaconda3\\envs\\cdl-env\\Lib\\site-packages\\pypdf\\_crypt_providers\\_cryptography.py:32: CryptographyDeprecationWarning: ARC4 has been moved to cryptography.hazmat.decrepit.ciphers.algorithms.ARC4 and will be removed from this module in 48.0.0.\n",
      "  from cryptography.hazmat.primitives.ciphers.algorithms import AES, ARC4\n"
     ]
    },
    {
     "name": "stdout",
     "output_type": "stream",
     "text": [
      "['__doc__', '__file__', '__loader__', '__name__', '__package__', '__path__', '__spec__', 'backends', 'core', 'handlers', 'image_processing', 'io', 'parsers', 'utils']\n"
     ]
    }
   ],
   "source": [
    "import camelot.io\n",
    "print(dir(camelot))\n"
   ]
  },
  {
   "cell_type": "code",
   "execution_count": 12,
   "metadata": {},
   "outputs": [
    {
     "name": "stdout",
     "output_type": "stream",
     "text": [
      "None\n"
     ]
    }
   ],
   "source": [
    "import camelot.io\n",
    "print(camelot.__file__)"
   ]
  }
 ],
 "metadata": {
  "kernelspec": {
   "display_name": "cdl-env",
   "language": "python",
   "name": "python3"
  },
  "language_info": {
   "codemirror_mode": {
    "name": "ipython",
    "version": 3
   },
   "file_extension": ".py",
   "mimetype": "text/x-python",
   "name": "python",
   "nbconvert_exporter": "python",
   "pygments_lexer": "ipython3",
   "version": "3.12.3"
  }
 },
 "nbformat": 4,
 "nbformat_minor": 2
}
