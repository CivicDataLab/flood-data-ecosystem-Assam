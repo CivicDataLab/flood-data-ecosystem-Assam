{
 "cells": [
  {
   "cell_type": "code",
   "execution_count": 4,
   "metadata": {},
   "outputs": [],
   "source": [
    "import pandas as pd \n",
    "import numpy as numpy\n",
    "import geopandas as gpd\n",
    "import re\n",
    "from pathlib import Path\n"
   ]
  },
  {
   "cell_type": "code",
   "execution_count": 5,
   "metadata": {},
   "outputs": [],
   "source": [
    "# Paths to data\n",
    "worldpop_dir = Path(r\"D:\\CivicDataLab_IDS-DRR\\IDS-DRR_Github\\Deployment\\flood-data-ecosystem-Assam\\Sources\\WORLDPOP\\data\")  # Folder containing worldpop_yyyy.csv\n",
    "demographic_dir = Path(r\"D:\\CivicDataLab_IDS-DRR\\IDS-DRR_Github\\Deployment\\flood-data-ecosystem-Assam\\Sources\\WORLDPOP\\data\\agesexstructure\")  # Folder containing demographic data by year\n",
    "\n",
    "# Output directory for processed WorldPop files\n",
    "output_dir = Path(r\"D:\\CivicDataLab_IDS-DRR\\IDS-DRR_Github\\Deployment\\flood-data-ecosystem-Assam\\Sources\\WORLDPOP\\data\")\n",
    "output_dir.mkdir(exist_ok=True, parents=True)\n"
   ]
  },
  {
   "cell_type": "code",
   "execution_count": null,
   "metadata": {},
   "outputs": [],
   "source": [
    "def normalize_name(name):\n",
    "    \"\"\"\n",
    "    Normalize tehsil names by removing extra spaces and replacing spaces with underscores.\n",
    "    \"\"\"\n",
    "    name = re.sub(r'\\s+', ' ', name.strip())  # Replace multiple spaces with a single space\n",
    "    return name.replace(\" \", \"_\").upper()  # Replace spaces with underscores and convert to uppercase\n"
   ]
  },
  {
   "cell_type": "code",
   "execution_count": 6,
   "metadata": {},
   "outputs": [
    {
     "name": "stdout",
     "output_type": "stream",
     "text": [
      "Processed data saved to D:\\CivicDataLab_IDS-DRR\\IDS-DRR_Github\\Deployment\\flood-data-ecosystem-Assam\\Sources\\WORLDPOP\\data\\worldpopstats_2016.csv\n",
      "Processed data saved to D:\\CivicDataLab_IDS-DRR\\IDS-DRR_Github\\Deployment\\flood-data-ecosystem-Assam\\Sources\\WORLDPOP\\data\\worldpopstats_2017.csv\n",
      "Processed data saved to D:\\CivicDataLab_IDS-DRR\\IDS-DRR_Github\\Deployment\\flood-data-ecosystem-Assam\\Sources\\WORLDPOP\\data\\worldpopstats_2018.csv\n",
      "Processed data saved to D:\\CivicDataLab_IDS-DRR\\IDS-DRR_Github\\Deployment\\flood-data-ecosystem-Assam\\Sources\\WORLDPOP\\data\\worldpopstats_2019.csv\n",
      "Processed data saved to D:\\CivicDataLab_IDS-DRR\\IDS-DRR_Github\\Deployment\\flood-data-ecosystem-Assam\\Sources\\WORLDPOP\\data\\worldpopstats_2020.csv\n"
     ]
    }
   ],
   "source": [
    "\n",
    "def calculate_tehsil_statistics(demographic_file):\n",
    "    \"\"\"\n",
    "    Calculate the required statistics for a single demographic file.\n",
    "    \"\"\"\n",
    "    df = pd.read_csv(demographic_file)\n",
    "\n",
    "    # Calculate total male and female population\n",
    "    total_male = df[\"male\"].sum()\n",
    "    total_female = df[\"female\"].sum()\n",
    "\n",
    "    # Calculate mean sex ratio\n",
    "    mean_sex_ratio = total_female / total_male if total_male > 0 else 0\n",
    "\n",
    "    # Calculate aged population (classes 65, 70, 75, 80)\n",
    "    aged_population = df[df[\"class\"].isin([65, 70, 75, 80])][[\"male\", \"female\"]].sum().sum()\n",
    "\n",
    "    # Calculate young population (classes 0, 1)\n",
    "    young_population = df[df[\"class\"].isin([0, 1])][[\"male\", \"female\"]].sum().sum()\n",
    "\n",
    "    return mean_sex_ratio, aged_population, young_population\n",
    "\n",
    "def process_yearly_data(year):\n",
    "    \"\"\"\n",
    "    Process the data for a given year and add statistics to the WorldPop file.\n",
    "    \"\"\"\n",
    "    # Load WorldPop data\n",
    "    worldpop_file = worldpop_dir / f\"worldpopstats_{year}.csv\"\n",
    "    worldpop_df = pd.read_csv(worldpop_file)\n",
    "\n",
    "    # Prepare to store the calculated statistics\n",
    "    statistics = []\n",
    "\n",
    "    # Demographic folder for the year\n",
    "    demographic_year_dir = demographic_dir / str(year)\n",
    "\n",
    "    # Process each rc demographic file\n",
    "    for _, row in worldpop_df.iterrows():\n",
    "        object_id = row[\"object_id\"]\n",
    "        # Locate the corresponding demographic file\n",
    "        demographic_file = demographic_year_dir / f\"{year}_{object_id}.csv\"\n",
    "        if demographic_file.exists():\n",
    "            mean_sex_ratio, aged_population, young_population = calculate_tehsil_statistics(demographic_file)\n",
    "        else:\n",
    "            # If demographic file is missing, use NaN\n",
    "            print(f\"Missing demographic file for {object_id}\")\n",
    "            mean_sex_ratio, aged_population, young_population = None, None, None\n",
    "\n",
    "        # Append statistics for this tehsil\n",
    "        statistics.append({\n",
    "            \"object_id\": object_id,\n",
    "            \"mean_sex_ratio\": mean_sex_ratio,\n",
    "            \"sum_aged_population\": aged_population,\n",
    "            \"sum_young_population\": young_population\n",
    "        })\n",
    "\n",
    "    # Convert statistics to a DataFrame\n",
    "    stats_df = pd.DataFrame(statistics)\n",
    "\n",
    "    # Merge statistics into the WorldPop DataFrame\n",
    "    updated_worldpop_df = pd.merge(worldpop_df, stats_df, on=\"object_id\", how=\"left\")\n",
    "\n",
    "    # Drop the normalized column and save the updated file\n",
    "    updated_worldpop_file = output_dir / f\"worldpopstats_{year}.csv\"\n",
    "    updated_worldpop_df.to_csv(updated_worldpop_file, index=False)\n",
    "    print(f\"Processed data saved to {updated_worldpop_file}\")\n",
    "\n",
    "# Main processing loop for all years\n",
    "for year in [2016,2017, 2018, 2019, 2020]:\n",
    "    process_yearly_data(year)\n"
   ]
  }
 ],
 "metadata": {
  "kernelspec": {
   "display_name": "cdl-env",
   "language": "python",
   "name": "python3"
  },
  "language_info": {
   "codemirror_mode": {
    "name": "ipython",
    "version": 3
   },
   "file_extension": ".py",
   "mimetype": "text/x-python",
   "name": "python",
   "nbconvert_exporter": "python",
   "pygments_lexer": "ipython3",
   "version": "3.12.3"
  }
 },
 "nbformat": 4,
 "nbformat_minor": 2
}
